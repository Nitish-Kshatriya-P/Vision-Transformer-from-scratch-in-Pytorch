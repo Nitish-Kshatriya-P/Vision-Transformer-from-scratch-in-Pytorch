{
  "nbformat": 4,
  "nbformat_minor": 0,
  "metadata": {
    "colab": {
      "provenance": []
    },
    "kernelspec": {
      "name": "python3",
      "display_name": "Python 3"
    },
    "language_info": {
      "name": "python"
    }
  },
  "cells": [
    {
      "cell_type": "code",
      "execution_count": 1,
      "metadata": {
        "id": "bqe5NqiTUl14"
      },
      "outputs": [],
      "source": [
        "#import libraries\n",
        "import torch\n",
        "import torchvision\n",
        "import torchvision.transforms as transforms\n",
        "import matplotlib.pyplot as plt\n",
        "import numpy as np\n",
        "import torch.nn as nn"
      ]
    },
    {
      "cell_type": "code",
      "source": [
        "#variables\n",
        "batch_size = 64\n",
        "img_size = 28\n",
        "patch_size = 7\n",
        "num_channels = 1\n",
        "num_patches = (img_size // patch_size) ** 2\n",
        "num_heads = 1\n",
        "embed_dim = 16\n",
        "mlp_dim = 16\n",
        "transformer_units = 4"
      ],
      "metadata": {
        "id": "0pLVqs7CVobs"
      },
      "execution_count": 2,
      "outputs": []
    },
    {
      "cell_type": "code",
      "source": [
        "#Python image library (PIL) to tensor\n",
        "transform = transforms.Compose(\n",
        "    [transforms.ToTensor()])"
      ],
      "metadata": {
        "id": "b4TOOw1jUtw5"
      },
      "execution_count": 3,
      "outputs": []
    },
    {
      "cell_type": "code",
      "source": [
        "#load dataset\n",
        "trainset = torchvision.datasets.MNIST(root='./data', train=True,\n",
        "                                        download=True, transform=transform)\n",
        "valset = torchvision.datasets.MNIST(root='./data', train=False,\n",
        "                                        download=True, transform=transform)"
      ],
      "metadata": {
        "id": "yeAjyrD7Uwaw",
        "colab": {
          "base_uri": "https://localhost:8080/"
        },
        "outputId": "045b75cc-4ca0-4d1f-b00d-6dcd49e2763c"
      },
      "execution_count": 4,
      "outputs": [
        {
          "output_type": "stream",
          "name": "stderr",
          "text": [
            "100%|██████████| 9.91M/9.91M [00:00<00:00, 15.9MB/s]\n",
            "100%|██████████| 28.9k/28.9k [00:00<00:00, 481kB/s]\n",
            "100%|██████████| 1.65M/1.65M [00:00<00:00, 4.44MB/s]\n",
            "100%|██████████| 4.54k/4.54k [00:00<00:00, 6.18MB/s]\n"
          ]
        }
      ]
    },
    {
      "cell_type": "code",
      "source": [
        "#create train and val batches\n",
        "train_data = torch.utils.data.DataLoader(trainset, batch_size=batch_size,\n",
        "                                          shuffle=True)\n",
        "val_data = torch.utils.data.DataLoader(valset, batch_size=batch_size,\n",
        "                                          shuffle=False)"
      ],
      "metadata": {
        "id": "PDI58WgqVP5v"
      },
      "execution_count": 5,
      "outputs": []
    },
    {
      "cell_type": "code",
      "source": [
        "class PatchEmbedding(nn.Module):\n",
        "    def __init__(self):\n",
        "        super().__init__()\n",
        "        self.patch_embed = nn.Conv2d(num_channels, embed_dim, kernel_size=patch_size, stride=patch_size)\n",
        "\n",
        "    def forward(self, x):\n",
        "        x = self.patch_embed(x)\n",
        "        x = x.flatten(2)\n",
        "        x = x.transpose(1,2)\n",
        "        return x"
      ],
      "metadata": {
        "id": "raej4gAFWG0O"
      },
      "execution_count": 6,
      "outputs": []
    },
    {
      "cell_type": "code",
      "source": [
        "class TransformerArchitecture(nn.Module):\n",
        "    def __init__(self):\n",
        "        super().__init__()\n",
        "        self.layer_norm_1 = nn.LayerNorm(embed_dim)\n",
        "        self.self_attention = nn.MultiheadAttention(embed_dim, num_heads, batch_first=True)\n",
        "        self.layer_norm_2 = nn.LayerNorm(embed_dim)\n",
        "        self.multi_layer_perceptron = nn.Sequential(\n",
        "            nn.Linear(embed_dim, mlp_dim),\n",
        "            nn.GELU(),\n",
        "            nn.Linear(mlp_dim, embed_dim)\n",
        "        )\n",
        "\n",
        "    def forward(self, x):\n",
        "        residual_1 = x\n",
        "        attention_output = self.self_attention(self.layer_norm_1(x),self.layer_norm_1(x),self.layer_norm_1(x))[0]\n",
        "        x = attention_output + residual_1\n",
        "        residual_2 = x\n",
        "        mlp_output = self.multi_layer_perceptron(self.layer_norm_2(x))\n",
        "        x = mlp_output + residual_2\n",
        "        return x\n"
      ],
      "metadata": {
        "id": "Kbu5iXfycw4o"
      },
      "execution_count": 7,
      "outputs": []
    },
    {
      "cell_type": "code",
      "source": [
        "class VisionTransformer(nn.Module):\n",
        "    def __init__(self):\n",
        "        super().__init__()\n",
        "        self.patch_embedding = PatchEmbedding()\n",
        "        self.cls_token = nn.Parameter(torch.randn(1,1,embed_dim))\n",
        "        self.pos_embed = nn.Parameter(torch.randn(1, (img_size // patch_size) ** 2 + 1, embed_dim))\n",
        "        self.transformer_layers = nn.Sequential(*[TransformerArchitecture() for _ in range(transformer_units)])\n",
        "\n",
        "        self.mlp_head = nn.Sequential(\n",
        "            nn.LayerNorm(embed_dim),\n",
        "            nn.Linear(embed_dim, 10)\n",
        "        )\n",
        "\n",
        "    def forward(self,x):\n",
        "        x = self.patch_embedding(x)\n",
        "        B = x.size(0)\n",
        "\n",
        "        cls_tokens = self.cls_token.expand(B , -1, -1)\n",
        "        x = torch.cat((cls_tokens, x), dim=1)\n",
        "        x = x + self.pos_embed\n",
        "        x = self.transformer_layers(x)\n",
        "        x = x[:,0]\n",
        "        x = self.mlp_head(x)\n",
        "        return x"
      ],
      "metadata": {
        "id": "SxNgMYCcfMwm"
      },
      "execution_count": 8,
      "outputs": []
    },
    {
      "cell_type": "code",
      "source": [
        "device = torch.device(\"cuda\" if torch.cuda.is_available() else \"cpu\")\n",
        "model = VisionTransformer().to(device)\n",
        "optimizer = torch.optim.Adam(model.parameters(), lr=0.01)\n",
        "criterion = nn.CrossEntropyLoss()"
      ],
      "metadata": {
        "id": "jf7edzGPhTI-"
      },
      "execution_count": 9,
      "outputs": []
    },
    {
      "cell_type": "markdown",
      "source": [],
      "metadata": {
        "id": "9WqaDY-dmn7v"
      }
    },
    {
      "cell_type": "code",
      "source": [
        "for epoch in range(5):\n",
        "    model.train()\n",
        "    total_loss = 0\n",
        "    correct_epoch = 0\n",
        "    total_epoch = 0\n",
        "    print(f\"\\nEpoch {epoch+1}\")\n",
        "\n",
        "    for batch_idx, (images, labels) in enumerate(train_data):\n",
        "        images, labels = images.to(device), labels.to(device)\n",
        "        optimizer.zero_grad()\n",
        "        outputs = model(images)\n",
        "\n",
        "        loss = criterion(outputs, labels)\n",
        "        loss.backward()\n",
        "        optimizer.step()\n",
        "\n",
        "        total_loss+=loss.item()\n",
        "        preds = outputs.argmax(dim=1)\n",
        "\n",
        "        correct = (preds == labels).sum().item()\n",
        "        accuracy = 100.0 * correct / labels.size(0)\n",
        "\n",
        "        correct_epoch += correct\n",
        "        total_epoch += labels.size(0)\n",
        "\n",
        "        if batch_idx % 100 == 0:\n",
        "            print(f\"  Batch {batch_idx+1:3d}: Loss = {loss.item():.4f}, Accuracy = {accuracy:.2f}%\")\n",
        "\n",
        "    epoch_acc = 100.0 * correct_epoch / total_epoch\n",
        "    print(f\"==> Epoch {epoch+1} Summary: Total Loss = {total_loss:.4f}, Accuracy = {epoch_acc:.2f}%\")"
      ],
      "metadata": {
        "id": "_5-pmMHqhaUW",
        "colab": {
          "base_uri": "https://localhost:8080/"
        },
        "outputId": "39ad8347-47b2-47aa-e2c0-151528de917b"
      },
      "execution_count": 10,
      "outputs": [
        {
          "output_type": "stream",
          "name": "stdout",
          "text": [
            "\n",
            "Epoch 1\n",
            "  Batch   1: Loss = 2.4942, Accuracy = 4.69%\n",
            "  Batch 101: Loss = 0.7758, Accuracy = 79.69%\n",
            "  Batch 201: Loss = 0.7175, Accuracy = 79.69%\n",
            "  Batch 301: Loss = 0.4699, Accuracy = 81.25%\n",
            "  Batch 401: Loss = 0.2945, Accuracy = 89.06%\n",
            "  Batch 501: Loss = 0.4827, Accuracy = 87.50%\n",
            "  Batch 601: Loss = 0.3818, Accuracy = 85.94%\n",
            "  Batch 701: Loss = 0.3094, Accuracy = 90.62%\n",
            "  Batch 801: Loss = 0.3829, Accuracy = 89.06%\n",
            "  Batch 901: Loss = 0.2186, Accuracy = 92.19%\n",
            "==> Epoch 1 Summary: Total Loss = 475.9996, Accuracy = 83.47%\n",
            "\n",
            "Epoch 2\n",
            "  Batch   1: Loss = 0.4109, Accuracy = 87.50%\n",
            "  Batch 101: Loss = 0.3172, Accuracy = 87.50%\n",
            "  Batch 201: Loss = 0.5710, Accuracy = 79.69%\n",
            "  Batch 301: Loss = 0.1361, Accuracy = 95.31%\n",
            "  Batch 401: Loss = 0.2729, Accuracy = 92.19%\n",
            "  Batch 501: Loss = 0.3025, Accuracy = 92.19%\n",
            "  Batch 601: Loss = 0.3101, Accuracy = 87.50%\n",
            "  Batch 701: Loss = 0.3293, Accuracy = 87.50%\n",
            "  Batch 801: Loss = 0.2199, Accuracy = 92.19%\n",
            "  Batch 901: Loss = 0.5081, Accuracy = 87.50%\n",
            "==> Epoch 2 Summary: Total Loss = 225.5625, Accuracy = 92.66%\n",
            "\n",
            "Epoch 3\n",
            "  Batch   1: Loss = 0.1863, Accuracy = 93.75%\n",
            "  Batch 101: Loss = 0.1727, Accuracy = 93.75%\n",
            "  Batch 201: Loss = 0.1513, Accuracy = 93.75%\n",
            "  Batch 301: Loss = 0.0394, Accuracy = 100.00%\n",
            "  Batch 401: Loss = 0.2493, Accuracy = 85.94%\n",
            "  Batch 501: Loss = 0.1000, Accuracy = 96.88%\n",
            "  Batch 601: Loss = 0.0835, Accuracy = 96.88%\n",
            "  Batch 701: Loss = 0.1487, Accuracy = 96.88%\n",
            "  Batch 801: Loss = 0.2192, Accuracy = 92.19%\n",
            "  Batch 901: Loss = 0.2414, Accuracy = 95.31%\n",
            "==> Epoch 3 Summary: Total Loss = 185.8793, Accuracy = 93.90%\n",
            "\n",
            "Epoch 4\n",
            "  Batch   1: Loss = 0.1106, Accuracy = 93.75%\n",
            "  Batch 101: Loss = 0.1552, Accuracy = 95.31%\n",
            "  Batch 201: Loss = 0.1213, Accuracy = 96.88%\n",
            "  Batch 301: Loss = 0.1025, Accuracy = 96.88%\n",
            "  Batch 401: Loss = 0.1614, Accuracy = 92.19%\n",
            "  Batch 501: Loss = 0.1854, Accuracy = 92.19%\n",
            "  Batch 601: Loss = 0.2127, Accuracy = 95.31%\n",
            "  Batch 701: Loss = 0.1812, Accuracy = 90.62%\n",
            "  Batch 801: Loss = 0.1256, Accuracy = 93.75%\n",
            "  Batch 901: Loss = 0.1064, Accuracy = 98.44%\n",
            "==> Epoch 4 Summary: Total Loss = 165.7747, Accuracy = 94.50%\n",
            "\n",
            "Epoch 5\n",
            "  Batch   1: Loss = 0.1305, Accuracy = 95.31%\n",
            "  Batch 101: Loss = 0.2343, Accuracy = 92.19%\n",
            "  Batch 201: Loss = 0.3928, Accuracy = 92.19%\n",
            "  Batch 301: Loss = 0.4385, Accuracy = 85.94%\n",
            "  Batch 401: Loss = 0.1871, Accuracy = 93.75%\n",
            "  Batch 501: Loss = 0.0586, Accuracy = 98.44%\n",
            "  Batch 601: Loss = 0.1360, Accuracy = 95.31%\n",
            "  Batch 701: Loss = 0.0715, Accuracy = 98.44%\n",
            "  Batch 801: Loss = 0.2320, Accuracy = 93.75%\n",
            "  Batch 901: Loss = 0.2800, Accuracy = 92.19%\n",
            "==> Epoch 5 Summary: Total Loss = 165.7188, Accuracy = 94.49%\n"
          ]
        }
      ]
    },
    {
      "cell_type": "code",
      "source": [
        "model.eval()\n",
        "correct = 0\n",
        "total = 0\n",
        "\n",
        "with torch.no_grad():\n",
        "    for images, labels in val_data:\n",
        "        images, labels = images.to(device), labels.to(device)\n",
        "        outputs = model(images)\n",
        "        preds = outputs.argmax(dim=1)\n",
        "        correct += (preds == labels).sum().item()\n",
        "        total += labels.size(0)\n",
        "\n",
        "test_acc = 100.0 * correct / total\n",
        "print(f\"\\n==> Val Accuracy: {test_acc:.2f}%\")\n"
      ],
      "metadata": {
        "id": "ULQNNN-wsXXK",
        "outputId": "4db28f55-3d46-4981-c0aa-558fae1a0069",
        "colab": {
          "base_uri": "https://localhost:8080/"
        }
      },
      "execution_count": 11,
      "outputs": [
        {
          "output_type": "stream",
          "name": "stdout",
          "text": [
            "\n",
            "==> Val Accuracy: 95.51%\n"
          ]
        }
      ]
    },
    {
      "cell_type": "code",
      "source": [
        "model.eval()\n",
        "images, labels = next(iter(val_data))\n",
        "images, labels = images.to(device), labels.to(device)\n",
        "\n",
        "with torch.no_grad():\n",
        "    outputs = model(images)\n",
        "    preds = outputs.argmax(dim=1)\n",
        "\n",
        "# Plot 10 test images with predictions\n",
        "plt.figure(figsize=(12, 4))\n",
        "for i in range(20):\n",
        "    plt.subplot(4, 5, i+1)\n",
        "    plt.imshow(images[i].squeeze(), cmap='gray')\n",
        "    if preds[i].item() == labels[i].item():\n",
        "        plt.title(f\"Pred: {preds[i].item()}\\nTrue: {labels[i].item()}\", color='green')\n",
        "    else:\n",
        "        plt.title(f\"Pred: {preds[i].item()}\\nTrue: {labels[i].item()}\", color='red')\n",
        "    plt.axis('off')\n",
        "plt.tight_layout()\n",
        "plt.show()"
      ],
      "metadata": {
        "id": "TBZ3pQXMskB8",
        "outputId": "65b88da8-f24c-49d6-8597-b3370cb404b8",
        "colab": {
          "base_uri": "https://localhost:8080/",
          "height": 407
        }
      },
      "execution_count": 13,
      "outputs": [
        {
          "output_type": "display_data",
          "data": {
            "text/plain": [
              "<Figure size 1200x400 with 20 Axes>"
            ],
            "image/png": "[encoded data removed]"
          },
          "metadata": {}
        }
      ]
    }
  ]
}